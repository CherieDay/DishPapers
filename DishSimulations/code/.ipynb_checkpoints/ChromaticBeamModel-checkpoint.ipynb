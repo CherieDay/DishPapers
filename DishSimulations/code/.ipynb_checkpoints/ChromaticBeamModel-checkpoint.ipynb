{
 "cells": [
  {
   "cell_type": "markdown",
   "metadata": {},
   "source": [
    "In this notebook, we model the chromatic beam using a combination of angular beam measurements and time domain simulations"
   ]
  },
  {
   "cell_type": "code",
   "execution_count": 2,
   "metadata": {
    "collapsed": false
   },
   "outputs": [],
   "source": [
    "%matplotlib inline\n",
    "import matplotlib.pyplot as plt\n",
    "import numpy as np\n",
    "import numpy.fft as fft\n",
    "import copy,csv\n",
    "import scipy.signal as signal\n",
    "import scipy.interpolate as interp\n",
    "import scipy.optimize as op\n",
    "import cosmology as cosmo"
   ]
  },
  {
   "cell_type": "code",
   "execution_count": 7,
   "metadata": {
    "collapsed": true
   },
   "outputs": [],
   "source": [
    "planeWaveFeedAndDish=np.loadtxt('../data/feedSim_500ns_pW.txt',skiprows=2)\n",
    "voltageResponseFeedAndDish=np.loadtxt('../data/feedSim_500ns_o1.txt',skiprows=2)\n",
    "\n",
    "planeWaveFeedAndDishNS=np.loadtxt('../data/feedSim_noSkirt_1000ns_pw.txt',skiprows=2)\n",
    "voltageResponseFeedAndDishNS=np.loadtxt('../data/feedSim_noSkirt_1000ns_o1.txt',skiprows=2)\n",
    "\n",
    "planeWaveFeedAndDish20Deg=np.loadtxt('../data/PW20deg_pw.txt')\n",
    "voltageResponseFeedAndDish20Deg=np.loadtxt('../data/PW20deg_o1.txt')\n",
    "\n",
    "\n",
    "ntFeedAndDish20Deg=len(planeWaveFeedAndDish20Deg)\n",
    "dtFeedAndDish20Deg=planeWaveFeedAndDish20Deg[1,0]-planeWaveFeedAndDish20Deg[0,0]\n",
    "ntFeedAndDish=len(planeWaveFeedAndDish)\n",
    "dtFeedAndDish=voltageResponseFeedAndDish[1,0]-voltageResponseFeedAndDish[0,0]\n",
    "dtFeedAndDishNS=voltageResponseFeedAndDishNS[1,0]-voltageResponseFeedAndDishNS[0,0]\n",
    "ntFeedAndDishNS=len(planeWaveFeedAndDishNS)"
   ]
  },
  {
   "cell_type": "code",
   "execution_count": 8,
   "metadata": {
    "collapsed": false
   },
   "outputs": [
    {
     "name": "stdout",
     "output_type": "stream",
     "text": [
      "204\n"
     ]
    }
   ],
   "source": [
    "#delay trace of zenith pointing\n",
    "pwPadFeedAndDish=np.pad(planeWaveFeedAndDish[:,1],(ntFeedAndDish*.5,ntFeedAndDish*.5),mode='constant')\n",
    "vrPadFeedAndDish=np.pad(voltageResponseFeedAndDish[:,1],(ntFeedAndDish*.5,ntFeedAndDish*.5),mode='constant')\n",
    "                        \n",
    "fAxisPadFeedAndDish=(fft.fftfreq(len(vrPadFeedAndDish),dtFeedAndDish))\n",
    "fWaveFeedAndDish=fft.fft(fft.fftshift(pwPadFeedAndDish))\n",
    "fResponseFeedAndDish=fft.fft(fft.fftshift(vrPadFeedAndDish))\n",
    "dfFeedAndDish=fAxisPadFeedAndDish[1]-fAxisPadFeedAndDish[0]\n",
    "\n",
    "selectionPos=np.logical_and(fAxisPadFeedAndDish>=50./1e3,fAxisPadFeedAndDish<=250./1e3)\n",
    "selectionNeg=np.logical_and(-fAxisPadFeedAndDish>=50./1e3,-fAxisPadFeedAndDish<=250./1e3)\n",
    "nSelect=len(fAxisPadFeedAndDish[selectionPos])\n",
    "print nSelect\n",
    "windowFeedAndDish=np.hamming(nSelect)\n",
    "#windowFeedAndDish=signal.blackmanharris(nSelect)\n",
    "windowFeedAndDish=windowFeedAndDish/windowFeedAndDish.mean()\n",
    "windowFeedAndDishFull=np.zeros(2*ntFeedAndDish)\n",
    "windowFeedAndDishFull[selectionPos]=windowFeedAndDish\n",
    "windowFeedAndDishFull[selectionNeg]=windowFeedAndDish\n",
    "delayResponseFeedAndDish=fft.fftshift(fft.ifft(fft.fftshift((windowFeedAndDishFull*fResponseFeedAndDish/fWaveFeedAndDish)[selectionPos])))\n",
    "tAxisFeedAndDish=fft.fftshift(fft.fftfreq(len(delayResponseFeedAndDish),dfFeedAndDish))"
   ]
  },
  {
   "cell_type": "code",
   "execution_count": 9,
   "metadata": {
    "collapsed": false
   },
   "outputs": [
    {
     "name": "stdout",
     "output_type": "stream",
     "text": [
      "215\n"
     ]
    }
   ],
   "source": [
    "#delay trace of sidelobe\n",
    "pwPadFeedAndDish20Deg=np.pad(planeWaveFeedAndDish20Deg[:,1],(ntFeedAndDish20Deg*.5,ntFeedAndDish20Deg*.5),mode='constant')\n",
    "vrPadFeedAndDish20Deg=np.pad(voltageResponseFeedAndDish20Deg[:,1],(ntFeedAndDish20Deg*.5,ntFeedAndDish20Deg*0.5),mode='constant')\n",
    "                        \n",
    "fAxisPadFeedAndDish20Deg=(fft.fftfreq(len(vrPadFeedAndDish20Deg),dtFeedAndDish20Deg))\n",
    "fWaveFeedAndDish20Deg=fft.fft(fft.fftshift(pwPadFeedAndDish20Deg))\n",
    "fResponseFeedAndDish20Deg=fft.fft(fft.fftshift(vrPadFeedAndDish20Deg))\n",
    "dfFeedAndDish20Deg=fAxisPadFeedAndDish20Deg[1]-fAxisPadFeedAndDish20Deg[0]\n",
    "\n",
    "selectionPos=np.logical_and(fAxisPadFeedAndDish20Deg>=50./1e3,fAxisPadFeedAndDish20Deg<=250./1e3)\n",
    "selectionNeg=np.logical_and(-fAxisPadFeedAndDish20Deg>=50./1e3,-fAxisPadFeedAndDish20Deg<=250./1e3)\n",
    "nSelect=len(fAxisPadFeedAndDish20Deg[selectionPos])\n",
    "print nSelect\n",
    "windowFeedAndDish20Deg=np.hamming(nSelect)\n",
    "#windowFeedAndDish=signal.blackmanharris(nSelect)\n",
    "windowFeedAndDish20Deg=windowFeedAndDish20Deg/windowFeedAndDish20Deg.mean()\n",
    "windowFeedAndDishFull20Deg=np.zeros(ntFeedAndDish20Deg*2)\n",
    "windowFeedAndDishFull20Deg[selectionPos]=windowFeedAndDish20Deg\n",
    "windowFeedAndDishFull20Deg[selectionNeg]=windowFeedAndDish20Deg\n",
    "delayResponseFeedAndDish20Deg=fft.fftshift(fft.ifft(fft.fftshift((windowFeedAndDishFull20Deg*fResponseFeedAndDish20Deg/fWaveFeedAndDish20Deg)[selectionPos])))\n",
    "tAxisFeedAndDish20Deg=fft.fftshift(fft.fftfreq(len(delayResponseFeedAndDish20Deg),dfFeedAndDish20Deg))"
   ]
  },
  {
   "cell_type": "code",
   "execution_count": 74,
   "metadata": {
    "collapsed": false
   },
   "outputs": [],
   "source": [
    "def pivotFunc(x,a,b,c):\n",
    "    xbelow=x<c\n",
    "    xabove=x>=c\n",
    "    output=np.zeros(len(x))\n",
    "    output[xbelow]=a**x[xbelow]\n",
    "    output[xabove]=(a**c)*b**(x[xabove])\n",
    "    return output"
   ]
  },
  {
   "cell_type": "code",
   "execution_count": 95,
   "metadata": {
    "collapsed": true
   },
   "outputs": [],
   "source": [
    "def pivotFuncLog(x,a,b,c):\n",
    "    xbelow=x<c\n",
    "    xabove=x>=c\n",
    "    output=np.zeros(len(x))\n",
    "    output[xbelow]=np.log10(a)*x[xbelow]\n",
    "    output[xabove]=np.log10(a)*c+np.log10(b)*(x[xabove])\n",
    "    return output"
   ]
  },
  {
   "cell_type": "code",
   "execution_count": 96,
   "metadata": {
    "collapsed": false,
    "scrolled": true
   },
   "outputs": [
    {
     "name": "stdout",
     "output_type": "stream",
     "text": [
      "[  0.03894997   0.62619469  34.79089127]\n",
      "[  0.16692008   0.6857992   44.80500703]\n"
     ]
    },
    {
     "name": "stderr",
     "output_type": "stream",
     "text": [
      "/Users/aaronew/default/lib/python2.7/site-packages/ipykernel/__main__.py:5: RuntimeWarning: invalid value encountered in log10\n",
      "/Users/aaronew/default/lib/python2.7/site-packages/ipykernel/__main__.py:6: RuntimeWarning: invalid value encountered in log10\n"
     ]
    },
    {
     "data": {
      "text/plain": [
       "(-100, 0)"
      ]
     },
     "execution_count": 96,
     "metadata": {},
     "output_type": "execute_result"
    },
    {
     "data": {
      "image/png": "[encoded data removed]",
      "text/plain": [
       "<matplotlib.figure.Figure at 0x10ec4d490>"
      ]
     },
     "metadata": {},
     "output_type": "display_data"
    }
   ],
   "source": [
    "nVal=np.abs(delayResponseFeedAndDish).max()\n",
    "nVal20=np.abs(delayResponseFeedAndDish20Deg).max()\n",
    "\n",
    "\n",
    "plt.plot(tAxisFeedAndDish-35,20*np.log10(np.abs(delayResponseFeedAndDish)/nVal))\n",
    "plt.plot(tAxisFeedAndDish20Deg-40,20*np.log10(np.abs(delayResponseFeedAndDish20Deg)/nVal20))\n",
    "\n",
    "#fit to line\n",
    "fitfunc = lambda x,a,b: a*x+b\n",
    "\n",
    "selZ=np.logical_and(tAxisFeedAndDish-35.>=0.,tAxisFeedAndDish-35.<=400.)\n",
    "fParams,_=op.curve_fit(pivotFuncLog,tAxisFeedAndDish[selZ]-35.,np.log10(np.abs(delayResponseFeedAndDish[selZ])/nVal),p0=[30.,30.,20.])\n",
    "sel20Deg=np.logical_and(tAxisFeedAndDish20Deg-40.>=0.,tAxisFeedAndDish20Deg-40.<=400.)\n",
    "fParams20Deg,_=op.curve_fit(pivotFuncLog,tAxisFeedAndDish20Deg[sel20Deg]-35.,np.log10(np.abs(delayResponseFeedAndDish[sel20Deg])/nVal20),p0=[30.,30.,30.])\n",
    "\n",
    "\n",
    "\n",
    "print fParams\n",
    "print fParams20Deg\n",
    "\n",
    "plt.plot((tAxisFeedAndDish[selZ]-35.),20*np.log10(np.abs(pivotFunc(tAxisFeedAndDish[selZ]-35.,fParams[0],fParams[1],fParams[2]))))\n",
    "plt.plot((tAxisFeedAndDish20Deg[sel20Deg]-40.),20*np.log10(np.abs(pivotFunc(tAxisFeedAndDish20Deg[sel20Deg]-40.,fParams20Deg[0],fParams20Deg[1],fParams20Deg[2]))))\n",
    "\n",
    "\n",
    "plt.xlim(-30,400)\n",
    "plt.ylim(-100,0)"
   ]
  },
  {
   "cell_type": "code",
   "execution_count": null,
   "metadata": {
    "collapsed": true
   },
   "outputs": [],
   "source": []
  },
  {
   "cell_type": "code",
   "execution_count": null,
   "metadata": {
    "collapsed": true
   },
   "outputs": [],
   "source": []
  }
 ],
 "metadata": {
  "kernelspec": {
   "display_name": "Python 2",
   "language": "python",
   "name": "python2"
  },
  "language_info": {
   "codemirror_mode": {
    "name": "ipython",
    "version": 2
   },
   "file_extension": ".py",
   "mimetype": "text/x-python",
   "name": "python",
   "nbconvert_exporter": "python",
   "pygments_lexer": "ipython2",
   "version": "2.7.10"
  }
 },
 "nbformat": 4,
 "nbformat_minor": 0
}
