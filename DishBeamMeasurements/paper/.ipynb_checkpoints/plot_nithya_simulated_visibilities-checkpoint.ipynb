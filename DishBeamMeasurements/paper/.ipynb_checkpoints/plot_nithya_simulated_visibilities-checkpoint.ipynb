{
 "cells": [
  {
   "cell_type": "code",
   "execution_count": 2,
   "metadata": {
    "collapsed": true
   },
   "outputs": [],
   "source": [
    "import matplotlib\n",
    "%matplotlib inline\n",
    "import matplotlib.pyplot as plt\n",
    "import numpy as np"
   ]
  },
  {
   "cell_type": "code",
   "execution_count": 3,
   "metadata": {
    "collapsed": false
   },
   "outputs": [],
   "source": [
    "d='/Users/abrahamn/Documents/Physics/papers/DishPapers/data/'\n",
    "visclean = np.load(d+'hera_clean_vis_vs_tau_vs_bl.npz')\n",
    "#visclean = np.load(d+'hera_raw_vis_vs_tau_vs_bl.npz')"
   ]
  },
  {
   "cell_type": "code",
   "execution_count": 4,
   "metadata": {
    "collapsed": false
   },
   "outputs": [
    {
     "data": {
      "text/plain": [
       "['bl', 'fg_power', 'fg_lags', 'eor_power', 'lst', 'eor_lags']"
      ]
     },
     "execution_count": 4,
     "metadata": {},
     "output_type": "execute_result"
    }
   ],
   "source": [
    "visclean.files"
   ]
  },
  {
   "cell_type": "code",
   "execution_count": 5,
   "metadata": {
    "collapsed": false
   },
   "outputs": [
    {
     "name": "stdout",
     "output_type": "stream",
     "text": [
      "[[ 14.6          0.           0.        ]\n",
      " [ -7.3         12.6439709   -0.        ]\n",
      " [  7.3         12.6439709    0.        ]\n",
      " [-21.9         12.6439709   -0.        ]\n",
      " [ 21.9         12.6439709    0.        ]\n",
      " [ -0.          25.28794179  -0.        ]\n",
      " [ 29.2          0.           0.        ]\n",
      " [-14.6         25.28794179  -0.        ]\n",
      " [ 14.6         25.28794179  -0.        ]\n",
      " [ -7.3         37.93191269  -0.        ]\n",
      " [  7.3         37.93191269  -0.        ]\n",
      " [-29.2         25.28794179  -0.        ]\n",
      " [-36.5         12.6439709   -0.        ]\n",
      " [ 36.5         12.6439709    0.        ]\n",
      " [ 29.2         25.28794179  -0.        ]\n",
      " [-21.9         37.93191269  -0.        ]\n",
      " [ 21.9         37.93191269  -0.        ]\n",
      " [ 43.8          0.           0.        ]\n",
      " [-43.8         25.28794179  -0.        ]\n",
      " [ 43.8         25.28794179  -0.        ]\n",
      " [ -0.          50.57588358  -0.        ]\n",
      " [ 36.5         37.93191269  -0.        ]\n",
      " [-14.6         50.57588358  -0.        ]\n",
      " [ 51.1         12.6439709   -0.        ]\n",
      " [-36.5         37.93191269  -0.        ]\n",
      " [-51.1         12.6439709   -0.        ]\n",
      " [ 14.6         50.57588358  -0.        ]\n",
      " [ 58.4          0.           0.        ]\n",
      " [-29.2         50.57588358  -0.        ]\n",
      " [ 29.2         50.57588358  -0.        ]]\n",
      "(30, 3)\n"
     ]
    }
   ],
   "source": [
    "print visclean['bl']\n",
    "print visclean['bl'].shape"
   ]
  },
  {
   "cell_type": "code",
   "execution_count": 6,
   "metadata": {
    "collapsed": false
   },
   "outputs": [
    {
     "name": "stdout",
     "output_type": "stream",
     "text": [
      "[ -1.49414063e-06  -1.48437500e-06  -1.47460938e-06  -1.46484375e-06\n",
      "  -1.45507813e-06  -1.44531250e-06  -1.43554688e-06  -1.42578125e-06\n",
      "  -1.41601563e-06  -1.40625000e-06  -1.39648438e-06  -1.38671875e-06\n",
      "  -1.37695313e-06  -1.36718750e-06  -1.35742188e-06  -1.34765625e-06\n",
      "  -1.33789063e-06  -1.32812500e-06  -1.31835938e-06  -1.30859375e-06\n",
      "  -1.29882813e-06  -1.28906250e-06  -1.27929688e-06  -1.26953125e-06\n",
      "  -1.25976563e-06  -1.25000000e-06  -1.24023438e-06  -1.23046875e-06\n",
      "  -1.22070313e-06  -1.21093750e-06  -1.20117188e-06  -1.19140625e-06\n",
      "  -1.18164063e-06  -1.17187500e-06  -1.16210938e-06  -1.15234375e-06\n",
      "  -1.14257813e-06  -1.13281250e-06  -1.12304688e-06  -1.11328125e-06\n",
      "  -1.10351563e-06  -1.09375000e-06  -1.08398438e-06  -1.07421875e-06\n",
      "  -1.06445313e-06  -1.05468750e-06  -1.04492187e-06  -1.03515625e-06\n",
      "  -1.02539063e-06  -1.01562500e-06  -1.00585938e-06  -9.96093750e-07\n",
      "  -9.86328125e-07  -9.76562500e-07  -9.66796875e-07  -9.57031250e-07\n",
      "  -9.47265625e-07  -9.37500000e-07  -9.27734375e-07  -9.17968750e-07\n",
      "  -9.08203125e-07  -8.98437500e-07  -8.88671875e-07  -8.78906250e-07\n",
      "  -8.69140625e-07  -8.59375000e-07  -8.49609375e-07  -8.39843750e-07\n",
      "  -8.30078125e-07  -8.20312500e-07  -8.10546875e-07  -8.00781250e-07\n",
      "  -7.91015625e-07  -7.81250000e-07  -7.71484375e-07  -7.61718750e-07\n",
      "  -7.51953125e-07  -7.42187500e-07  -7.32421875e-07  -7.22656250e-07\n",
      "  -7.12890625e-07  -7.03125000e-07  -6.93359375e-07  -6.83593750e-07\n",
      "  -6.73828125e-07  -6.64062500e-07  -6.54296875e-07  -6.44531250e-07\n",
      "  -6.34765625e-07  -6.25000000e-07  -6.15234375e-07  -6.05468750e-07\n",
      "  -5.95703125e-07  -5.85937500e-07  -5.76171875e-07  -5.66406250e-07\n",
      "  -5.56640625e-07  -5.46875000e-07  -5.37109375e-07  -5.27343750e-07\n",
      "  -5.17578125e-07  -5.07812500e-07  -4.98046875e-07  -4.88281250e-07\n",
      "  -4.78515625e-07  -4.68750000e-07  -4.58984375e-07  -4.49218750e-07\n",
      "  -4.39453125e-07  -4.29687500e-07  -4.19921875e-07  -4.10156250e-07\n",
      "  -4.00390625e-07  -3.90625000e-07  -3.80859375e-07  -3.71093750e-07\n",
      "  -3.61328125e-07  -3.51562500e-07  -3.41796875e-07  -3.32031250e-07\n",
      "  -3.22265625e-07  -3.12500000e-07  -3.02734375e-07  -2.92968750e-07\n",
      "  -2.83203125e-07  -2.73437500e-07  -2.63671875e-07  -2.53906250e-07\n",
      "  -2.44140625e-07  -2.34375000e-07  -2.24609375e-07  -2.14843750e-07\n",
      "  -2.05078125e-07  -1.95312500e-07  -1.85546875e-07  -1.75781250e-07\n",
      "  -1.66015625e-07  -1.56250000e-07  -1.46484375e-07  -1.36718750e-07\n",
      "  -1.26953125e-07  -1.17187500e-07  -1.07421875e-07  -9.76562500e-08\n",
      "  -8.78906250e-08  -7.81250000e-08  -6.83593750e-08  -5.85937500e-08\n",
      "  -4.88281250e-08  -3.90625000e-08  -2.92968750e-08  -1.95312500e-08\n",
      "  -9.76562500e-09   0.00000000e+00   9.76562500e-09   1.95312500e-08\n",
      "   2.92968750e-08   3.90625000e-08   4.88281250e-08   5.85937500e-08\n",
      "   6.83593750e-08   7.81250000e-08   8.78906250e-08   9.76562500e-08\n",
      "   1.07421875e-07   1.17187500e-07   1.26953125e-07   1.36718750e-07\n",
      "   1.46484375e-07   1.56250000e-07   1.66015625e-07   1.75781250e-07\n",
      "   1.85546875e-07   1.95312500e-07   2.05078125e-07   2.14843750e-07\n",
      "   2.24609375e-07   2.34375000e-07   2.44140625e-07   2.53906250e-07\n",
      "   2.63671875e-07   2.73437500e-07   2.83203125e-07   2.92968750e-07\n",
      "   3.02734375e-07   3.12500000e-07   3.22265625e-07   3.32031250e-07\n",
      "   3.41796875e-07   3.51562500e-07   3.61328125e-07   3.71093750e-07\n",
      "   3.80859375e-07   3.90625000e-07   4.00390625e-07   4.10156250e-07\n",
      "   4.19921875e-07   4.29687500e-07   4.39453125e-07   4.49218750e-07\n",
      "   4.58984375e-07   4.68750000e-07   4.78515625e-07   4.88281250e-07\n",
      "   4.98046875e-07   5.07812500e-07   5.17578125e-07   5.27343750e-07\n",
      "   5.37109375e-07   5.46875000e-07   5.56640625e-07   5.66406250e-07\n",
      "   5.76171875e-07   5.85937500e-07   5.95703125e-07   6.05468750e-07\n",
      "   6.15234375e-07   6.25000000e-07   6.34765625e-07   6.44531250e-07\n",
      "   6.54296875e-07   6.64062500e-07   6.73828125e-07   6.83593750e-07\n",
      "   6.93359375e-07   7.03125000e-07   7.12890625e-07   7.22656250e-07\n",
      "   7.32421875e-07   7.42187500e-07   7.51953125e-07   7.61718750e-07\n",
      "   7.71484375e-07   7.81250000e-07   7.91015625e-07   8.00781250e-07\n",
      "   8.10546875e-07   8.20312500e-07   8.30078125e-07   8.39843750e-07\n",
      "   8.49609375e-07   8.59375000e-07   8.69140625e-07   8.78906250e-07\n",
      "   8.88671875e-07   8.98437500e-07   9.08203125e-07   9.17968750e-07\n",
      "   9.27734375e-07   9.37500000e-07   9.47265625e-07   9.57031250e-07\n",
      "   9.66796875e-07   9.76562500e-07   9.86328125e-07   9.96093750e-07\n",
      "   1.00585938e-06   1.01562500e-06   1.02539063e-06   1.03515625e-06\n",
      "   1.04492187e-06   1.05468750e-06   1.06445313e-06   1.07421875e-06\n",
      "   1.08398438e-06   1.09375000e-06   1.10351563e-06   1.11328125e-06\n",
      "   1.12304688e-06   1.13281250e-06   1.14257813e-06   1.15234375e-06\n",
      "   1.16210938e-06   1.17187500e-06   1.18164063e-06   1.19140625e-06\n",
      "   1.20117188e-06   1.21093750e-06   1.22070313e-06   1.23046875e-06\n",
      "   1.24023438e-06   1.25000000e-06   1.25976563e-06   1.26953125e-06\n",
      "   1.27929688e-06   1.28906250e-06   1.29882813e-06   1.30859375e-06\n",
      "   1.31835938e-06   1.32812500e-06   1.33789063e-06   1.34765625e-06\n",
      "   1.35742188e-06   1.36718750e-06   1.37695313e-06   1.38671875e-06\n",
      "   1.39648438e-06   1.40625000e-06   1.41601563e-06   1.42578125e-06\n",
      "   1.43554688e-06   1.44531250e-06   1.45507813e-06   1.46484375e-06\n",
      "   1.47460938e-06   1.48437500e-06   1.49414063e-06]\n",
      "(307,)\n"
     ]
    }
   ],
   "source": [
    "print visclean['fg_lags']\n",
    "print visclean['fg_lags'].shape"
   ]
  },
  {
   "cell_type": "code",
   "execution_count": 7,
   "metadata": {
    "collapsed": false
   },
   "outputs": [
    {
     "name": "stdout",
     "output_type": "stream",
     "text": [
      "(40,)\n"
     ]
    }
   ],
   "source": [
    "print visclean['lst'].shape"
   ]
  },
  {
   "cell_type": "code",
   "execution_count": 10,
   "metadata": {
    "collapsed": false
   },
   "outputs": [
    {
     "data": {
      "text/plain": [
       "[<matplotlib.lines.Line2D at 0x106948a50>]"
      ]
     },
     "execution_count": 10,
     "metadata": {},
     "output_type": "execute_result"
    },
    {
     "data": {
      "image/png": "[encoded data removed]",
      "text/plain": [
       "<matplotlib.figure.Figure at 0x1063aff50>"
      ]
     },
     "metadata": {},
     "output_type": "display_data"
    }
   ],
   "source": [
    "plt.semilogy(visclean['fg_lags']*1.e6,visclean['fg_power'][0,:,0],'.')\n",
    "plt.semilogy(visclean['eor_lags']*1.e6,visclean['eor_power'][0,:,0],'o')"
   ]
  },
  {
   "cell_type": "code",
   "execution_count": 9,
   "metadata": {
    "collapsed": false
   },
   "outputs": [
    {
     "data": {
      "text/plain": [
       "array([   0.,    9.,   18.,   27.,   36.,   45.,   54.,   63.,   72.,\n",
       "         81.,   90.,   99.,  108.,  117.,  126.,  135.,  144.,  153.,\n",
       "        162.,  171.,  180.,  189.,  198.,  207.,  216.,  225.,  234.,\n",
       "        243.,  252.,  261.,  270.,  279.,  288.,  297.,  306.,  315.,\n",
       "        324.,  333.,  342.,  351.])"
      ]
     },
     "execution_count": 9,
     "metadata": {},
     "output_type": "execute_result"
    }
   ],
   "source": [
    "visclean['lst']"
   ]
  },
  {
   "cell_type": "code",
   "execution_count": null,
   "metadata": {
    "collapsed": true
   },
   "outputs": [],
   "source": []
  },
  {
   "cell_type": "code",
   "execution_count": null,
   "metadata": {
    "collapsed": true
   },
   "outputs": [],
   "source": []
  },
  {
   "cell_type": "code",
   "execution_count": null,
   "metadata": {
    "collapsed": true
   },
   "outputs": [],
   "source": []
  },
  {
   "cell_type": "code",
   "execution_count": null,
   "metadata": {
    "collapsed": true
   },
   "outputs": [],
   "source": []
  },
  {
   "cell_type": "code",
   "execution_count": null,
   "metadata": {
    "collapsed": true
   },
   "outputs": [],
   "source": []
  },
  {
   "cell_type": "code",
   "execution_count": null,
   "metadata": {
    "collapsed": true
   },
   "outputs": [],
   "source": []
  }
 ],
 "metadata": {
  "kernelspec": {
   "display_name": "Python 2",
   "language": "python",
   "name": "python2"
  },
  "language_info": {
   "codemirror_mode": {
    "name": "ipython",
    "version": 2
   },
   "file_extension": ".py",
   "mimetype": "text/x-python",
   "name": "python",
   "nbconvert_exporter": "python",
   "pygments_lexer": "ipython2",
   "version": "2.7.10"
  }
 },
 "nbformat": 4,
 "nbformat_minor": 0
}
